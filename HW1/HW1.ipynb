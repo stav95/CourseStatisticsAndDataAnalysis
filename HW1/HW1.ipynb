{
  "nbformat": 4,
  "nbformat_minor": 0,
  "metadata": {
    "colab": {
      "name": "HW1.ipynb",
      "provenance": [],
      "collapsed_sections": []
    },
    "kernelspec": {
      "display_name": "Python 3",
      "language": "python",
      "name": "python3"
    },
    "language_info": {
      "codemirror_mode": {
        "name": "ipython",
        "version": 3
      },
      "file_extension": ".py",
      "mimetype": "text/x-python",
      "name": "python",
      "nbconvert_exporter": "python",
      "pygments_lexer": "ipython3",
      "version": "3.7.6"
    }
  },
  "cells": [
    {
      "cell_type": "markdown",
      "metadata": {
        "id": "CHyEgPlsr4Gk"
      },
      "source": [
        "### IDs:\n",
        "Insert yours IDs to the cell below"
      ]
    },
    {
      "cell_type": "markdown",
      "metadata": {
        "id": "ZJVq9FtKr4Gk"
      },
      "source": [
        "ID #1: 316298876\n",
        "\n",
        "ID #2: 316298256\n"
      ]
    },
    {
      "cell_type": "markdown",
      "metadata": {
        "id": "mz3keJ_Cr4Gk"
      },
      "source": [
        "## Read the following instructions carefully:\n",
        "\n",
        "1. This jupyter notebook contains all the step by step instructions needed for this exercise.\n",
        "1. You are free to add cells.\n",
        "1. Write your functions and your answers in this jupyter notebook only.\n",
        "1. Answers to theoretical questions should be written in **markdown cells (with $\\LaTeX$ support)**.\n",
        "1. Submit this jupyter notebook only using your ID as a filename. Not to use ZIP or RAR. For example, your Moodle submission file name should look like this (two id numbers): `123456789_987654321.ipynb`."
      ]
    },
    {
      "cell_type": "code",
      "metadata": {
        "id": "Hlv_Dqchtp1X"
      },
      "source": [
        "import numpy as np\n",
        "import math\n",
        "import random\n",
        "import matplotlib.pyplot as plt\n",
        "from scipy.stats import nbinom\n",
        "from scipy.special import binom"
      ],
      "execution_count": null,
      "outputs": []
    },
    {
      "cell_type": "markdown",
      "metadata": {
        "id": "uWkfXadXr4Gk"
      },
      "source": [
        "### Question 1 - Defective products"
      ]
    },
    {
      "cell_type": "markdown",
      "metadata": {
        "id": "jCEe1rGer4Gk"
      },
      "source": [
        "In a manufacturing pipeline products are 3% defective. We are interested in examining a defective product to see what goes wrong on the belt. We need to ask the facility manager to send us a set of independent samples for examination."
      ]
    },
    {
      "cell_type": "markdown",
      "metadata": {
        "id": "UQVcn1s4r4Gk"
      },
      "source": [
        "#### 1.A\n",
        "\n",
        "How many independent samples should we ask for in order to have a 85% probability of having at least one defective product in the batch sent? You should write a function."
      ]
    },
    {
      "cell_type": "code",
      "metadata": {
        "id": "P-DGXO5Nr4Gk"
      },
      "source": [
        "def a(prob_target: float, prob_defective: float) -> int:\n",
        "    prob_good = 1 - prob_defective\n",
        "    prob_inverse_target = 1 - prob_target\n",
        "    n = 1\n",
        "    while True:\n",
        "        if np.power(prob_good, n) <= prob_inverse_target:\n",
        "            return n\n",
        "        n += 1"
      ],
      "execution_count": null,
      "outputs": []
    },
    {
      "cell_type": "code",
      "metadata": {
        "id": "RJ4NHnUCm72d"
      },
      "source": [
        "def a_v2(prob_target: float, prob_defective: float) -> int:\n",
        "    return int(np.ceil(math.log(1 - prob_target, 1 - prob_defective)))"
      ],
      "execution_count": null,
      "outputs": []
    },
    {
      "cell_type": "code",
      "metadata": {
        "colab": {
          "base_uri": "https://localhost:8080/"
        },
        "id": "AO3lOlwOMg78",
        "outputId": "e80e7668-535e-406c-8fa5-03eb7de13466"
      },
      "source": [
        "print(a(prob_target=0.85, prob_defective=0.03))\n",
        "print('-'* 10)\n",
        "print(a_v2(prob_target=0.85, prob_defective=0.03))"
      ],
      "execution_count": null,
      "outputs": [
        {
          "output_type": "stream",
          "text": [
            "63\n",
            "----------\n",
            "63\n"
          ],
          "name": "stdout"
        }
      ]
    },
    {
      "cell_type": "markdown",
      "metadata": {
        "id": "DLDfgT7mr4Gk"
      },
      "source": [
        "#### 1.B\n",
        "Answer this part again with the following changes: products are 4% defective and we want a 95% probability of at least one defective product in the batch."
      ]
    },
    {
      "cell_type": "code",
      "metadata": {
        "colab": {
          "base_uri": "https://localhost:8080/"
        },
        "id": "jRli1jOKr4Gk",
        "outputId": "482962d5-6a8f-4ec2-ed42-67bf0bc16cd7"
      },
      "source": [
        "print(a(prob_target=0.95, prob_defective=0.04))\n",
        "print('-'* 10)\n",
        "print(a_v2(prob_target=0.95, prob_defective=0.04))"
      ],
      "execution_count": null,
      "outputs": [
        {
          "output_type": "stream",
          "text": [
            "74\n",
            "----------\n",
            "74\n"
          ],
          "name": "stdout"
        }
      ]
    },
    {
      "cell_type": "markdown",
      "metadata": {
        "id": "MiwOR6npr4Gk"
      },
      "source": [
        "#### 1.C \n",
        "\n",
        "Consider the following cases and calculate how many independent samples are required: \n",
        "\n",
        "1. Products are 10% defective and we want a 90% probability of at least 5 defective products in the batch.\n",
        "1. Products are 30% defective and we want a 90% probability of at least 15 defective products in the batch.\n",
        "\n",
        "Explain the difference between the two results. You should use mathematical reasoning based on the properties of distributions you saw in class and visualizations in your answer."
      ]
    },
    {
      "cell_type": "code",
      "metadata": {
        "id": "jQk6qbjtUujk"
      },
      "source": [
        "def _plot(arr, target_defects):\n",
        "    x = [i[0] for i in arr]\n",
        "    y = [i[1] for i in arr]\n",
        "    plt.plot(x, y)\n",
        "    plt.title(f\"{target_defects} at least defectives\")\n",
        "    plt.show()"
      ],
      "execution_count": null,
      "outputs": []
    },
    {
      "cell_type": "code",
      "metadata": {
        "id": "_5FqVjnbr4Gk"
      },
      "source": [
        "def c(target_prob: float, prob_defective: float, target_defects: int):\n",
        "    prob_good = 1 - prob_defective\n",
        "    n = target_defects\n",
        "    \n",
        "    arr = []\n",
        "    while True:\n",
        "        overall = 0\n",
        "\n",
        "        for defects in range(target_defects):\n",
        "            non_defects = n - defects\n",
        "            overall += binom(n, defects) * (np.power(prob_defective, defects)) * (np.power(prob_good, non_defects))\n",
        "\n",
        "        arr.append([n, 1 - overall])\n",
        "        if 1 - overall > target_prob:\n",
        "            _plot(arr, target_defects)\n",
        "            return n\n",
        "        n += 1\n",
        "\n",
        "    return n"
      ],
      "execution_count": null,
      "outputs": []
    },
    {
      "cell_type": "code",
      "metadata": {
        "id": "27wjZ6bim_Mu"
      },
      "source": [
        "def c_v2(target_prob: float, prob_defective: float, target_defects: int):\n",
        "    return nbinom.ppf(q=target_prob, n=target_defects, p=prob_defective) + target_defects"
      ],
      "execution_count": null,
      "outputs": []
    },
    {
      "cell_type": "code",
      "metadata": {
        "colab": {
          "base_uri": "https://localhost:8080/",
          "height": 630
        },
        "id": "7qdDrbBYMIu0",
        "outputId": "696ed5c3-1137-4074-c0f6-96a20d4898a3"
      },
      "source": [
        "print(c(0.9, 0.1, 5))\n",
        "print(c_v2(0.9, 0.1, 5))\n",
        "print('-'* 10)\n",
        "print(c(0.9, 0.3, 15))\n",
        "print(c_v2(0.9, 0.3, 15))"
      ],
      "execution_count": null,
      "outputs": [
        {
          "output_type": "display_data",
          "data": {
            "image/png": "[encoded data removed]",
            "text/plain": [
              "<Figure size 432x288 with 1 Axes>"
            ]
          },
          "metadata": {
            "tags": [],
            "needs_background": "light"
          }
        },
        {
          "output_type": "stream",
          "text": [
            "78\n",
            "78.0\n",
            "----------\n"
          ],
          "name": "stdout"
        },
        {
          "output_type": "display_data",
          "data": {
            "image/png": "[encoded data removed]",
            "text/plain": [
              "<Figure size 432x288 with 1 Axes>"
            ]
          },
          "metadata": {
            "tags": [],
            "needs_background": "light"
          }
        },
        {
          "output_type": "stream",
          "text": [
            "64\n",
            "64.0\n"
          ],
          "name": "stdout"
        }
      ]
    },
    {
      "cell_type": "markdown",
      "metadata": {
        "id": "b_kOaO-oVY2U"
      },
      "source": [
        "Explanation:\n",
        "\n",
        "If we calculate the mean of each distribution (the mean of NBinom distribution is: $\\frac{r}{p}$), we can see they both equal so we need to find something else that makes the difference between the distributions, $\\frac{5}{0.1} = 50$ equal to  $\\frac{15}{0.3} = 50$\n",
        "\n",
        "We will look into the variance of each distribution ($\\frac{r(1-p)}{p^2}$)\n",
        "\n",
        "5 at least defectives: $\\frac{5(1-0.1)}{0.1^2} = 450$\n",
        "\n",
        "15 at least defectives $\\frac{15(1-0.3)}{0.1^2} = 166\\frac{2}{3}$\n",
        "\n",
        "As we can see in the first graph and in our variances results more mass go to the extreme so we will need to order more items to reach $90\\%$.\n"
      ]
    },
    {
      "cell_type": "markdown",
      "metadata": {
        "id": "XQsUU-_2r4Gk"
      },
      "source": [
        "### Question 2 - Rent distributions in Randomistan"
      ]
    },
    {
      "cell_type": "markdown",
      "metadata": {
        "id": "jPJKwGKZr4Gk"
      },
      "source": [
        "The state of Randomistan conducted a survey to study the distribution of rent paid in two neighboring towns, Stochastic Heights and Random Grove, to be denoted SH and RG.<br> \n",
        "\n",
        "Here are some findings of the survey:\n",
        "* The population of SH and RG is 16,000 and 22,000 respectively. <br>\n",
        "* The mean rent in SH and RG is 6300RCU and 4200RCU respectively.\n",
        "* The median rent is 4600RCU in both towns.\n",
        "* The IQR of the rent is smaller in SH than in RG.\n",
        "\n",
        "All data generated in this question needs to be consistent with these findings."
      ]
    },
    {
      "cell_type": "code",
      "metadata": {
        "id": "pp5jBQkFJyG0"
      },
      "source": [
        "def add_iqr(dist: np.ndarray, median):\n",
        "    dist_sort = np.sort(dist)\n",
        "    mid_point = int(len(dist_sort) / 2)\n",
        "\n",
        "    i = mid_point\n",
        "    while dist_sort[i] == median:\n",
        "        i += 1\n",
        "\n",
        "    group_size = int((len(dist_sort) - i) / 2) - 10\n",
        "\n",
        "    is_valid_move = np.any(dist_sort[i: i + group_size] - 500 < median)\n",
        "    if not is_valid_move:\n",
        "        dist_sort[i: i + group_size] -= 500\n",
        "        dist_sort[i + group_size:] += 500\n",
        "\n",
        "    return dist_sort"
      ],
      "execution_count": null,
      "outputs": []
    },
    {
      "cell_type": "code",
      "metadata": {
        "id": "lgkewgJ1JyG0"
      },
      "source": [
        "def reduce_iqr(dist: np.ndarray, median):\n",
        "    dist_sort = np.sort(dist)\n",
        "    mid_point = int(len(dist_sort) / 2)\n",
        "\n",
        "    i = mid_point\n",
        "    while dist_sort[i] == median:\n",
        "        i += 1\n",
        "\n",
        "    group_size = int((len(dist_sort) - i) / 3) - 1\n",
        "\n",
        "    is_valid_move = np.any(dist_sort[i: i + (group_size * 2)] - 500 < median)\n",
        "    if not is_valid_move:\n",
        "        dist_sort[i: i + (group_size * 2)] -= 500\n",
        "        dist_sort[i + (group_size * 2):i + (group_size * 3)] += 1000\n",
        "\n",
        "    return dist_sort"
      ],
      "execution_count": null,
      "outputs": []
    },
    {
      "cell_type": "code",
      "metadata": {
        "id": "-7FAY7USJyG0"
      },
      "source": [
        "def make_more_bins(arr: np.ndarray) -> np.ndarray:\n",
        "    distri = arr.copy()\n",
        "    group_size = int(len(distri) * 0.2 / 8)\n",
        "    distri[:group_size] -= 400\n",
        "    distri[group_size: group_size * 2] += 400\n",
        "    distri[group_size * 2: group_size * 5] -= 200\n",
        "    distri[group_size * 5: group_size * 7] += 200\n",
        "\n",
        "    idx = int(len(distri) * 0.8)\n",
        "    distri[idx:idx + group_size] -= 400\n",
        "    distri[idx + group_size: idx + (group_size * 2)] += 400\n",
        "    distri[idx + (group_size * 2):idx + (group_size * 5)] -= 200\n",
        "    distri[idx + (group_size * 5):idx + (group_size * 7)] += 200\n",
        "\n",
        "    return distri"
      ],
      "execution_count": null,
      "outputs": []
    },
    {
      "cell_type": "code",
      "metadata": {
        "id": "VHIzdvdoJyG0"
      },
      "source": [
        "def build_distribution(pop, mean, median) -> np.ndarray:\n",
        "    distri = np.zeros(pop, dtype=np.int32)\n",
        "\n",
        "    med_point = int(pop / 2)\n",
        "    distri[med_point - 1: med_point + 2] = median\n",
        "\n",
        "    _min = (int(min(mean, median) / 4 / 100)) * 100\n",
        "\n",
        "    num_ran = 0\n",
        "    while num_ran == 0:\n",
        "        num_ran = int(random.randint(1, _min) / 100) * 100\n",
        "\n",
        "    num_ran = max(num_ran, 500)\n",
        "\n",
        "    distri[: med_point - 1] = num_ran\n",
        "\n",
        "    result = ((mean * pop) - np.sum(distri)) / (pop - np.count_nonzero(distri))\n",
        "\n",
        "    distri[med_point + 2:] = result\n",
        "\n",
        "    return distri\n"
      ],
      "execution_count": null,
      "outputs": []
    },
    {
      "cell_type": "code",
      "metadata": {
        "id": "N0we7z29JyG0"
      },
      "source": [
        "def build_distributions(sh_pop: int, sh_mean: int, sh_median: int, rg_pop: int, rg_mean: int, rg_median: int) -> (\n",
        "        np.ndarray, np.ndarray):\n",
        "    sh_dist = build_distribution(sh_pop, sh_mean, sh_median)\n",
        "    sh_iqr = np.percentile(sh_dist, 75) - np.percentile(sh_dist, 25)\n",
        "\n",
        "    rg_dist = build_distribution(rg_pop, rg_mean, rg_median)\n",
        "    rg_iqr = np.percentile(rg_dist, 75) - np.percentile(rg_dist, 25)\n",
        "\n",
        "    counter = 0\n",
        "    while rg_iqr < sh_iqr:\n",
        "        counter += 1\n",
        "        if counter == 1000:\n",
        "            return build_distributions(sh_pop, sh_mean, sh_median, rg_pop, rg_mean, rg_median)\n",
        "\n",
        "        rg_dist = add_iqr(rg_dist, rg_median)\n",
        "        rg_iqr = np.percentile(rg_dist, 75) - np.percentile(rg_dist, 25)\n",
        "\n",
        "        sh_dist = reduce_iqr(sh_dist, sh_median)\n",
        "        sh_iqr = np.percentile(sh_dist, 75) - np.percentile(sh_dist, 25)\n",
        "\n",
        "    sh_dist = make_more_bins(sh_dist)\n",
        "    rg_dist = make_more_bins(rg_dist)\n",
        "\n",
        "    rg_iqr = np.percentile(rg_dist, 75) - np.percentile(rg_dist, 25)\n",
        "    sh_iqr = np.percentile(sh_dist, 75) - np.percentile(sh_dist, 25)\n",
        "    sh_var = np.var(sh_dist)\n",
        "    rg_var = np.var(rg_dist)\n",
        "\n",
        "    if rg_iqr < sh_iqr or rg_var > sh_var:\n",
        "        return build_distributions(sh_pop, sh_mean, sh_median, rg_pop, rg_mean, rg_median)\n",
        "\n",
        "    return sh_dist, rg_dist"
      ],
      "execution_count": null,
      "outputs": []
    },
    {
      "cell_type": "code",
      "metadata": {
        "id": "J5k_9dsFJyG0"
      },
      "source": [
        "def plot_rents(sh_dist: np.ndarray, rg_dist: np.ndarray):\n",
        "    sh_mean = np.round(np.mean(sh_dist))\n",
        "    sh_median = np.round(np.median(sh_dist))\n",
        "    sh_iqr = np.percentile(sh_dist, 75) - np.percentile(sh_dist, 25)\n",
        "    sh_var = np.round(np.var(sh_dist))\n",
        "    sh_title = f\"SH\\nPopulation: {len(sh_dist)}\\nmean: {sh_mean}\" \\\n",
        "               f\"\\nmedian: {sh_median}\\nIQR: {sh_iqr}\\nVariance: {sh_var}\"\n",
        "    sh_bins = int(np.max(sh_dist) / 100) + 2\n",
        "    plt.hist(sh_dist, bins=[i * 100 for i in range(sh_bins)])\n",
        "    plt.title(sh_title)\n",
        "    plt.show()\n",
        "    \n",
        "    rg_mean = np.round(np.mean(rg_dist))\n",
        "    rg_median = np.round(np.median(rg_dist))\n",
        "    rg_iqr = np.percentile(rg_dist, 75) - np.percentile(rg_dist, 25)\n",
        "    rg_var = np.round(np.var(rg_dist))\n",
        "    rg_title = f\"RG\\nPopulation: {len(rg_dist)}\\nmean: {rg_mean}\" \\\n",
        "               f\"\\nmedian: {rg_median}\\nIQR: {rg_iqr}\\nVariance: {rg_var}\"\n",
        "    rg_bins = int(np.max(rg_dist) / 100) + 2\n",
        "    plt.hist(rg_dist, bins=[i * 100 for i in range(rg_bins)])\n",
        "    plt.title(rg_title)\n",
        "    plt.show()\n",
        "    "
      ],
      "execution_count": null,
      "outputs": []
    },
    {
      "cell_type": "markdown",
      "metadata": {
        "id": "jm46dacdr4Gk"
      },
      "source": [
        "#### 2.A\n",
        "Draw histograms that describe 2 different scenarii of possible distributions of rent in the two towns.\u000bYour histograms should:<br>\n",
        "* Use bins of 100RCU each.\n",
        "* Have at least 10 non zero bins."
      ]
    },
    {
      "cell_type": "markdown",
      "metadata": {
        "id": "ThvStENEJyG0"
      },
      "source": [
        "2.A and 2.B together down below 2.B"
      ]
    },
    {
      "cell_type": "markdown",
      "metadata": {
        "id": "L2I8iKm0r4Gk"
      },
      "source": [
        "#### 2.B\n",
        "Draw a histogram of a third scenario with the same properties. <br>\n",
        "In addition, in this scenario the rent in SH should have a higher variance than the rent in RG."
      ]
    },
    {
      "cell_type": "code",
      "metadata": {
        "colab": {
          "base_uri": "https://localhost:8080/",
          "height": 695
        },
        "id": "EMPgYB8LJyG0",
        "outputId": "6e44bd52-40b3-4cf8-ac57-8079101dff34"
      },
      "source": [
        "sh_rent_dist, rg_rent_dist = build_distributions(sh_pop=16000, sh_mean=6300, sh_median=4600,\n",
        "                                                     rg_pop=22000, rg_mean=4200, rg_median=4600)\n",
        "\n",
        "plot_rents(sh_rent_dist, rg_rent_dist)"
      ],
      "execution_count": null,
      "outputs": [
        {
          "output_type": "display_data",
          "data": {
            "image/png": "[encoded data removed]",
            "text/plain": [
              "<Figure size 432x288 with 1 Axes>"
            ]
          },
          "metadata": {
            "tags": [],
            "needs_background": "light"
          }
        },
        {
          "output_type": "display_data",
          "data": {
            "image/png": "[encoded data removed]",
            "text/plain": [
              "<Figure size 432x288 with 1 Axes>"
            ]
          },
          "metadata": {
            "tags": [],
            "needs_background": "light"
          }
        }
      ]
    },
    {
      "cell_type": "code",
      "metadata": {
        "id": "o0dEO5krJyG0",
        "colab": {
          "base_uri": "https://localhost:8080/",
          "height": 695
        },
        "outputId": "a59a37d8-aacd-4e79-de19-4c313f0b10d8"
      },
      "source": [
        "sh_rent_dist, rg_rent_dist = build_distributions(sh_pop=16000, sh_mean=6300, sh_median=4600,\n",
        "                                                     rg_pop=22000, rg_mean=4200, rg_median=4600)\n",
        "\n",
        "plot_rents(sh_rent_dist, rg_rent_dist)"
      ],
      "execution_count": null,
      "outputs": [
        {
          "output_type": "display_data",
          "data": {
            "image/png": "[encoded data removed]",
            "text/plain": [
              "<Figure size 432x288 with 1 Axes>"
            ]
          },
          "metadata": {
            "tags": [],
            "needs_background": "light"
          }
        },
        {
          "output_type": "display_data",
          "data": {
            "image/png": "[encoded data removed]",
            "text/plain": [
              "<Figure size 432x288 with 1 Axes>"
            ]
          },
          "metadata": {
            "tags": [],
            "needs_background": "light"
          }
        }
      ]
    },
    {
      "cell_type": "code",
      "metadata": {
        "id": "aWVB1Hl6JyG0",
        "colab": {
          "base_uri": "https://localhost:8080/",
          "height": 695
        },
        "outputId": "0d235c71-ad5a-48a8-bdab-4b1f15f3c4fb"
      },
      "source": [
        "sh_rent_dist, rg_rent_dist = build_distributions(sh_pop=16000, sh_mean=6300, sh_median=4600,\n",
        "                                                     rg_pop=22000, rg_mean=4200, rg_median=4600)\n",
        "\n",
        "plot_rents(sh_rent_dist, rg_rent_dist)"
      ],
      "execution_count": null,
      "outputs": [
        {
          "output_type": "display_data",
          "data": {
            "image/png": "[encoded data removed]",
            "text/plain": [
              "<Figure size 432x288 with 1 Axes>"
            ]
          },
          "metadata": {
            "tags": [],
            "needs_background": "light"
          }
        },
        {
          "output_type": "display_data",
          "data": {
            "image/png": "[encoded data removed]",
            "text/plain": [
              "<Figure size 432x288 with 1 Axes>"
            ]
          },
          "metadata": {
            "tags": [],
            "needs_background": "light"
          }
        }
      ]
    },
    {
      "cell_type": "markdown",
      "metadata": {
        "id": "NtLc4707r4Gk"
      },
      "source": [
        "The survey also examined the per household income (PHI) in these two places.<br>\n",
        "\n",
        "It found that:<br>\n",
        "* The mean of PHI in SH is 12500 and in RG is 8500.\n",
        "* The median is 12000 in SH and 8000 in RG.\n",
        "* The covariance of the rent and the PHI was observed to be as in the formula below with $\\alpha=97\\%$ and $\\alpha=89\\%$ in SH and in RG respectively.<br><br>\n",
        "$$Cov(rent, PHI) = \\alpha * \\sqrt{Var(rent)} * \\sqrt{Var(PHI)}$$\n",
        "\n",
        "#### 2.C\n",
        "Produce rent and PHI data for the two cities, that is consistent with these findings. The covariances in your data can deviate by up to 1% from the numbers given $\\alpha$."
      ]
    },
    {
      "cell_type": "code",
      "metadata": {
        "id": "LQ3jiq9FJyG0"
      },
      "source": [
        "def fix_phi_distributions(rent_dist: np.ndarray, phi_dist: np.ndarray, target: float, alpha: float) -> np.ndarray:\n",
        "    distri = phi_dist.copy()\n",
        "    cov = alpha * (np.sqrt(np.var(rent_dist))) * (np.sqrt(np.var(distri)))\n",
        "    real_cov = np.cov(rent_dist, distri)[0, 1]\n",
        "    res = cov / real_cov\n",
        "\n",
        "    median = np.median(distri)\n",
        "\n",
        "    counter = 0\n",
        "    while res < target:\n",
        "        counter += 1\n",
        "\n",
        "        if counter == 100:\n",
        "            return None\n",
        "\n",
        "        distri = reduce_iqr(distri, median)\n",
        "        distri = add_iqr(distri, median)\n",
        "        cov = alpha * (np.sqrt(np.var(rent_dist))) * (np.sqrt(np.var(distri)))\n",
        "        real_cov = np.cov(rent_dist, distri)[0, 1]\n",
        "        res = cov / real_cov\n",
        "\n",
        "    if res > 1.0:\n",
        "        return None\n",
        "\n",
        "    return distri"
      ],
      "execution_count": null,
      "outputs": []
    },
    {
      "cell_type": "code",
      "metadata": {
        "id": "DWJHFnOFJyG0"
      },
      "source": [
        "def build_phi_distributions(sh_rent_dist: np.ndarray, rg_rent_dist: np.ndarray) -> np.ndarray:\n",
        "    sh_phi_dist, rg_phi_dist = build_distributions(sh_pop=16000, sh_mean=12500, sh_median=12000,\n",
        "                                                   rg_pop=22000, rg_mean=8500, rg_median=8000)\n",
        "\n",
        "    sh_phi_dist = fix_phi_distributions(sh_rent_dist, sh_phi_dist, 0.99, 0.97)\n",
        "    rg_phi_dist = fix_phi_distributions(rg_rent_dist, rg_phi_dist, 0.99, 0.89)\n",
        "\n",
        "    if sh_phi_dist is None or rg_phi_dist is None:\n",
        "        return build_phi_distributions(sh_rent_dist, rg_rent_dist)\n",
        "\n",
        "    return sh_phi_dist, rg_phi_dist"
      ],
      "execution_count": null,
      "outputs": []
    },
    {
      "cell_type": "code",
      "metadata": {
        "id": "OLzspLupr4Gk",
        "colab": {
          "base_uri": "https://localhost:8080/",
          "height": 729
        },
        "outputId": "d3d8e73c-1b17-4ef8-c891-b5361f178405"
      },
      "source": [
        "sh_rent_dist, rg_rent_dist = build_distributions(sh_pop=16000, sh_mean=6300, sh_median=4600,\n",
        "                                                     rg_pop=22000, rg_mean=4200, rg_median=4600)\n",
        "\n",
        "\n",
        "sh_phi_dist, rg_phi_dist = build_phi_distributions(sh_rent_dist, rg_rent_dist)\n",
        "\n",
        "sh_cov = 0.97 * (np.sqrt(np.var(sh_rent_dist))) * (np.sqrt(np.var(sh_phi_dist)))\n",
        "sh_real_cov = np.cov(sh_rent_dist, sh_phi_dist)\n",
        "\n",
        "rg_cov = 0.89 * (np.sqrt(np.var(rg_rent_dist))) * (np.sqrt(np.var(rg_phi_dist)))\n",
        "rg_real_cov = np.cov(rg_rent_dist, rg_phi_dist)\n",
        "\n",
        "print(\"SH accuracy:\", sh_cov / sh_real_cov[0, 1])\n",
        "print(\"RG accuracy:\", rg_cov / rg_real_cov[0, 1])\n",
        "\n",
        "plot_rents(sh_phi_dist, rg_phi_dist)"
      ],
      "execution_count": null,
      "outputs": [
        {
          "output_type": "stream",
          "text": [
            "SH accuracy: 0.9972733465621246\n",
            "RG accuracy: 0.9902296791382413\n"
          ],
          "name": "stdout"
        },
        {
          "output_type": "display_data",
          "data": {
            "image/png": "[encoded data removed]",
            "text/plain": [
              "<Figure size 432x288 with 1 Axes>"
            ]
          },
          "metadata": {
            "tags": [],
            "needs_background": "light"
          }
        },
        {
          "output_type": "display_data",
          "data": {
            "image/png": "[encoded data removed]",
            "text/plain": [
              "<Figure size 432x288 with 1 Axes>"
            ]
          },
          "metadata": {
            "tags": [],
            "needs_background": "light"
          }
        }
      ]
    },
    {
      "cell_type": "markdown",
      "metadata": {
        "id": "tbncd8zNr4Gk"
      },
      "source": [
        "#### 2.D\n",
        "Produce two heatmaps that describe these two bivariate joint distributions. Make sure you carefully consider the selected binning resolution."
      ]
    },
    {
      "cell_type": "code",
      "metadata": {
        "id": "-0JvzM_Wr4Gk",
        "colab": {
          "base_uri": "https://localhost:8080/",
          "height": 541
        },
        "outputId": "546117a8-4f4a-40bc-abb4-bbe88c97499a"
      },
      "source": [
        "plt.hist2d(x=sh_rent_dist, y=sh_phi_dist, cmap='viridis', bins=5)\n",
        "plt.xlabel('SH Rent')\n",
        "plt.ylabel('SH PHI')\n",
        "plt.show()\n",
        "\n",
        "plt.hist2d(x=rg_rent_dist, y=rg_phi_dist, cmap='inferno', bins=5)\n",
        "plt.xlabel('RG Rent')\n",
        "plt.ylabel('RG PHI')\n",
        "plt.show()"
      ],
      "execution_count": null,
      "outputs": [
        {
          "output_type": "display_data",
          "data": {
            "image/png": "[encoded data removed]",
            "text/plain": [
              "<Figure size 432x288 with 1 Axes>"
            ]
          },
          "metadata": {
            "tags": [],
            "needs_background": "light"
          }
        },
        {
          "output_type": "display_data",
          "data": {
            "image/png": "[encoded data removed]",
            "text/plain": [
              "<Figure size 432x288 with 1 Axes>"
            ]
          },
          "metadata": {
            "tags": [],
            "needs_background": "light"
          }
        }
      ]
    },
    {
      "cell_type": "markdown",
      "metadata": {
        "id": "IbFS-NNPr4Gk"
      },
      "source": [
        "### Question 3 - Covariance and independence"
      ]
    },
    {
      "cell_type": "markdown",
      "metadata": {
        "id": "HP4Xzjs1r4Gk"
      },
      "source": [
        "What is the variance of the sum X +Y + Z of three random variables in terms of the variances of X, Y and Z and the covariances between each pair of random variables? What happens if X,Y,Z are pairwise independent? If X,Y,Z are pairwise independent, are they necessarily collectively independent? Prove your answer."
      ]
    },
    {
      "cell_type": "markdown",
      "metadata": {
        "id": "D4HBe6GtrLce"
      },
      "source": [
        "$V(X + Y + Z) = E\\left[(X + Y + Z)^2\\right] - (E\\left[X + Y + Z\\right])^2 =$\n",
        "\n",
        "$E\\left[X^2\\right] + E\\left[Y^2\\right] + E\\left[Z^2\\right] + 2E\\left[XY\\right] + 2E\\left[YZ\\right] + 2E\\left[XZ\\right] - \\{(E\\left[X\\right])^2 + (E\\left[Y\\right])^2 + (E\\left[Z\\right])^2 + 2E\\left[X\\right]E\\left[Y\\right] + 2E\\left[Y\\right]E\\left[Z\\right] + 2E\\left[X\\right]E\\left[Z\\right] \\}=$\n",
        "\n",
        "$V\\left[X\\right] + V\\left[Y\\right] + V\\left[Z\\right] + 2(E\\left[XY\\right] - E\\left[X\\right]E\\left[Y\\right]) + 2(E\\left[YZ\\right] - E\\left[Y\\right]E\\left[Z\\right]) + 2(E\\left[YZ\\right] - E\\left[Y\\right]E\\left[Z\\right])=$\n",
        "\n",
        "$V\\left[X\\right] + V\\left[Y\\right] + V\\left[Z\\right] + 2COV\\left[X,Y\\right] + 2COV\\left[Y,Z\\right] + 2COV\\left[X,Z\\right]$\n",
        "\n",
        "If random variables are pairwise independent then $Cov\\left[X_1, X_2\\right]=0$ so in our case:\n",
        "$V(X + Y + Z) = V\\left[X\\right] + V\\left[Y\\right] + V\\left[Z\\right]$\n",
        "\n",
        "If not every random variable is independent, then the linearity of variances is work only on the independent pairs.\n",
        "Let's say $Cov\\left[X, Y\\right]=0$ and $Cov\\left[Y, Z\\right]=0$\n",
        "\n",
        "Then in our case:\n",
        "\n",
        "$V(X + Y + Z) = V\\left[X\\right] + V\\left[Y\\right] + V\\left[Z\\right] + 2COV\\left[X,Z\\right]$\n"
      ]
    },
    {
      "cell_type": "markdown",
      "metadata": {
        "id": "J44Nd6fSr4Gk"
      },
      "source": [
        "### Question 4 - Convolutions"
      ]
    },
    {
      "cell_type": "markdown",
      "metadata": {
        "id": "eWiN_HsIr4Gk"
      },
      "source": [
        "#### 4.A\n",
        "Write a program, `Q = NFoldConv(P , n)`, that takes as input:\n",
        "* A distribution, P, of a random variable that takes finitely many integer values\n",
        "* An integer n\n",
        "\n",
        "and produces the distribution, Q, of the sum of n independent repeats of random variables, each of which has the distribution P."
      ]
    },
    {
      "cell_type": "code",
      "metadata": {
        "id": "uc5emr7Sr4Gk"
      },
      "source": [
        "def NFoldConv(P, n):\n",
        "    distri = {}\n",
        "    if n == 0:\n",
        "        return {}\n",
        "    if n == 1:\n",
        "        for i in range(len(P[0])):\n",
        "            distri[P[0][i]] = P[1][i]\n",
        "        return distri\n",
        "\n",
        "    new_distri = NFoldConv(P, n - 1)\n",
        "\n",
        "    for i in new_distri:\n",
        "        for j in range(len(P[0])):\n",
        "            if P[0][j] + i not in distri:\n",
        "                distri[P[0][j] + i] = new_distri[i] * P[1][j]\n",
        "            else:\n",
        "                distri[P[0][j] + i] += new_distri[i] * P[1][j]\n",
        "    return distri"
      ],
      "execution_count": null,
      "outputs": []
    },
    {
      "cell_type": "markdown",
      "metadata": {
        "id": "GStPpuhMr4Gk"
      },
      "source": [
        "#### 4.B\n",
        "Compute the distribution of the sum of the results of rolling a fair octahedron 17 times.\n",
        "\n",
        "<img src=\"https://upload.wikimedia.org/wikipedia/commons/2/27/Octahedron.jpg\" width=\"200\">\n"
      ]
    },
    {
      "cell_type": "code",
      "metadata": {
        "id": "Bb9jIoPzr4Gk",
        "colab": {
          "base_uri": "https://localhost:8080/"
        },
        "outputId": "6b415368-bb5f-47ad-b18e-2090cffeee26"
      },
      "source": [
        "sides = 8\n",
        "NFoldConv([[i for i in range(1, sides + 1)], [1.0 / sides for i in range(sides)]], 17)"
      ],
      "execution_count": null,
      "outputs": [
        {
          "output_type": "execute_result",
          "data": {
            "text/plain": [
              "{17: 4.440892098500626e-16,\n",
              " 18: 7.549516567451064e-15,\n",
              " 19: 6.794564910705958e-14,\n",
              " 20: 4.303224443447107e-13,\n",
              " 21: 2.1516122217235534e-12,\n",
              " 22: 9.036771331238924e-12,\n",
              " 23: 3.313482821454272e-11,\n",
              " 24: 1.088715784192118e-10,\n",
              " 25: 3.2660718574106795e-10,\n",
              " 26: 9.07134811711785e-10,\n",
              " 27: 2.3577291230481023e-09,\n",
              " 28: 5.782673007104222e-09,\n",
              " 29: 1.3473395732432891e-08,\n",
              " 30: 2.998400727705075e-08,\n",
              " 31: 6.401734875538523e-08,\n",
              " 32: 1.3161584089260714e-07,\n",
              " 33: 2.613809253482202e-07,\n",
              " 34: 5.027422242953605e-07,\n",
              " 35: 9.38663699212583e-07,\n",
              " 36: 1.7045993589981379e-06,\n",
              " 37: 3.015970226893927e-06,\n",
              " 38: 5.206881849684208e-06,\n",
              " 39: 8.783168114145923e-06,\n",
              " 40: 1.449303744882613e-05,\n",
              " 41: 2.3418493098503745e-05,\n",
              " 42: 3.7090165106334894e-05,\n",
              " 43: 5.762708941681183e-05,\n",
              " 44: 8.790117605705916e-05,\n",
              " 45: 0.00013172354057466862,\n",
              " 46: 0.0001940465160554794,\n",
              " 47: 0.000281171099826949,\n",
              " 48: 0.00040094502474907756,\n",
              " 49: 0.0005629319236253316,\n",
              " 50: 0.0007785276598544222,\n",
              " 51: 0.0010609964316725673,\n",
              " 52: 0.0014253974040241424,\n",
              " 53: 0.0018883730784566843,\n",
              " 54: 0.002467774003582779,\n",
              " 55: 0.0031821012120212266,\n",
              " 56: 0.004049758126849046,\n",
              " 57: 0.005088117430610772,\n",
              " 58: 0.006312424925249083,\n",
              " 59: 0.007734580675745839,\n",
              " 60: 0.009361856250110101,\n",
              " 61: 0.011195623843158309,\n",
              " 62: 0.013230186524219256,\n",
              " 63: 0.015451806826463077,\n",
              " 64: 0.017838031700777357,\n",
              " 65: 0.02035740428456334,\n",
              " 66: 0.022969636481963374,\n",
              " 67: 0.025626291369178045,\n",
              " 68: 0.028271992206021945,\n",
              " 69: 0.030846137527832607,\n",
              " 70: 0.033285062338742843,\n",
              " 71: 0.03552454726152865,\n",
              " 72: 0.03750254422783916,\n",
              " 73: 0.03916196231819313,\n",
              " 74: 0.0404533435000225,\n",
              " 75: 0.041337257154996365,\n",
              " 76: 0.04178625514552792,\n",
              " 77: 0.04178625514552792,\n",
              " 78: 0.041337257154996365,\n",
              " 79: 0.0404533435000225,\n",
              " 80: 0.03916196231819313,\n",
              " 81: 0.03750254422783916,\n",
              " 82: 0.03552454726152865,\n",
              " 83: 0.033285062338742843,\n",
              " 84: 0.030846137527832607,\n",
              " 85: 0.028271992206021945,\n",
              " 86: 0.025626291369178045,\n",
              " 87: 0.022969636481963374,\n",
              " 88: 0.02035740428456334,\n",
              " 89: 0.017838031700777357,\n",
              " 90: 0.015451806826463077,\n",
              " 91: 0.013230186524219256,\n",
              " 92: 0.011195623843158309,\n",
              " 93: 0.009361856250110101,\n",
              " 94: 0.007734580675745839,\n",
              " 95: 0.006312424925249083,\n",
              " 96: 0.005088117430610772,\n",
              " 97: 0.004049758126849046,\n",
              " 98: 0.0031821012120212266,\n",
              " 99: 0.002467774003582779,\n",
              " 100: 0.0018883730784566843,\n",
              " 101: 0.0014253974040241424,\n",
              " 102: 0.0010609964316725673,\n",
              " 103: 0.0007785276598544222,\n",
              " 104: 0.0005629319236253316,\n",
              " 105: 0.00040094502474907756,\n",
              " 106: 0.000281171099826949,\n",
              " 107: 0.0001940465160554794,\n",
              " 108: 0.00013172354057466862,\n",
              " 109: 8.790117605705916e-05,\n",
              " 110: 5.762708941681183e-05,\n",
              " 111: 3.7090165106334894e-05,\n",
              " 112: 2.3418493098503745e-05,\n",
              " 113: 1.449303744882613e-05,\n",
              " 114: 8.783168114145923e-06,\n",
              " 115: 5.206881849684208e-06,\n",
              " 116: 3.015970226893927e-06,\n",
              " 117: 1.7045993589981379e-06,\n",
              " 118: 9.38663699212583e-07,\n",
              " 119: 5.027422242953605e-07,\n",
              " 120: 2.613809253482202e-07,\n",
              " 121: 1.3161584089260714e-07,\n",
              " 122: 6.401734875538523e-08,\n",
              " 123: 2.998400727705075e-08,\n",
              " 124: 1.3473395732432891e-08,\n",
              " 125: 5.782673007104222e-09,\n",
              " 126: 2.3577291230481023e-09,\n",
              " 127: 9.07134811711785e-10,\n",
              " 128: 3.2660718574106795e-10,\n",
              " 129: 1.088715784192118e-10,\n",
              " 130: 3.313482821454272e-11,\n",
              " 131: 9.036771331238924e-12,\n",
              " 132: 2.1516122217235534e-12,\n",
              " 133: 4.303224443447107e-13,\n",
              " 134: 6.794564910705958e-14,\n",
              " 135: 7.549516567451064e-15,\n",
              " 136: 4.440892098500626e-16}"
            ]
          },
          "metadata": {
            "tags": []
          },
          "execution_count": 32
        }
      ]
    },
    {
      "cell_type": "markdown",
      "metadata": {
        "id": "ifNQGZz3r4Gk"
      },
      "source": [
        "#### 4.C\n",
        "Assume that the price of a stock changes in any given day according to (in NIS):\n",
        "\n",
        "$$P=\\begin{pmatrix}\n",
        "-1 & 0 & 1 & 2 & 3 \\\\\n",
        "0.3 & 0.15 & 0.15 & 0.15 & 0.25\n",
        "\\end{pmatrix}$$\n",
        "\n",
        "1. What is the distribution of the change in stock after 2 consecutive days of (independent) changes? After 5 consecutive days? "
      ]
    },
    {
      "cell_type": "code",
      "metadata": {
        "id": "MJXX0oW5r4Gk",
        "scrolled": true,
        "colab": {
          "base_uri": "https://localhost:8080/"
        },
        "outputId": "6bf4ae07-c441-40f4-dfd6-8d27b36c5554"
      },
      "source": [
        "NFoldConv([[-1,0,1,2,3],[0.3,0.15,0.15,0.15,0.25]], 2)"
      ],
      "execution_count": null,
      "outputs": [
        {
          "output_type": "execute_result",
          "data": {
            "text/plain": [
              "{-2: 0.09,\n",
              " -1: 0.09,\n",
              " 0: 0.1125,\n",
              " 1: 0.135,\n",
              " 2: 0.21749999999999997,\n",
              " 3: 0.12,\n",
              " 4: 0.0975,\n",
              " 5: 0.075,\n",
              " 6: 0.0625}"
            ]
          },
          "metadata": {
            "tags": []
          },
          "execution_count": 33
        }
      ]
    },
    {
      "cell_type": "code",
      "metadata": {
        "colab": {
          "base_uri": "https://localhost:8080/"
        },
        "id": "XT3ruWpTJyG1",
        "outputId": "d6280827-4be4-4d88-e354-0ab8aa9b5f7e"
      },
      "source": [
        "NFoldConv([[-1,0,1,2,3],[0.3,0.15,0.15,0.15,0.25]], 5)"
      ],
      "execution_count": null,
      "outputs": [
        {
          "output_type": "execute_result",
          "data": {
            "text/plain": [
              "{-5: 0.00243,\n",
              " -4: 0.006075,\n",
              " -3: 0.012149999999999998,\n",
              " -2: 0.021262499999999997,\n",
              " -1: 0.038221874999999995,\n",
              " 0: 0.053738437499999986,\n",
              " 1: 0.07074843749999998,\n",
              " 2: 0.08720156249999998,\n",
              " 3: 0.10407656249999997,\n",
              " 4: 0.10719843749999998,\n",
              " 5: 0.10638843749999999,\n",
              " 6: 0.09968906249999998,\n",
              " 7: 0.08860781249999998,\n",
              " 8: 0.0683578125,\n",
              " 9: 0.0517078125,\n",
              " 10: 0.0363571875,\n",
              " 11: 0.0233671875,\n",
              " 12: 0.0120703125,\n",
              " 13: 0.0064453125,\n",
              " 14: 0.0029296875,\n",
              " 15: 0.0009765625}"
            ]
          },
          "metadata": {
            "tags": []
          },
          "execution_count": 34
        }
      ]
    },
    {
      "cell_type": "markdown",
      "metadata": {
        "id": "AAhP5119r4Gk"
      },
      "source": [
        "2. What is the probability that the stock has gained strictly more than 7NIS after 5 days? Has lost strictly more than 4NIS? Explain your answers."
      ]
    },
    {
      "cell_type": "code",
      "metadata": {
        "id": "GwL5tZf3r4Gk",
        "colab": {
          "base_uri": "https://localhost:8080/"
        },
        "outputId": "cc07f847-10da-4e3c-ba8b-8beb421fce54"
      },
      "source": [
        "Q = NFoldConv([[-1,0,1,2,3],[0.3,0.15,0.15,0.15,0.25]], 5)\n",
        "prob = 0\n",
        "for i in Q:\n",
        "    if i > 7:\n",
        "        prob += Q[i]\n",
        "prob"
      ],
      "execution_count": null,
      "outputs": [
        {
          "output_type": "execute_result",
          "data": {
            "text/plain": [
              "0.202211875"
            ]
          },
          "metadata": {
            "tags": []
          },
          "execution_count": 35
        }
      ]
    },
    {
      "cell_type": "markdown",
      "metadata": {
        "id": "l4SKk22NXly0"
      },
      "source": [
        "If the stock gained more than 7 NIS therefore the stock gained 8, 9, 10, ..., 15 NIS, so we need just to sum all the probabilities from 8 to 15."
      ]
    },
    {
      "cell_type": "code",
      "metadata": {
        "colab": {
          "base_uri": "https://localhost:8080/"
        },
        "id": "SK-D2PxXJyG1",
        "outputId": "3e310a5f-4fb0-4d8d-e2d2-5b2aabba088f"
      },
      "source": [
        "Q = NFoldConv([[-1,0,1,2,3],[0.3,0.15,0.15,0.15,0.25]], 5)\n",
        "prob = 0\n",
        "for i in Q:\n",
        "    if i < -4:\n",
        "        prob += Q[i]\n",
        "prob\n",
        "\n"
      ],
      "execution_count": null,
      "outputs": [
        {
          "output_type": "execute_result",
          "data": {
            "text/plain": [
              "0.00243"
            ]
          },
          "metadata": {
            "tags": []
          },
          "execution_count": 36
        }
      ]
    },
    {
      "cell_type": "markdown",
      "metadata": {
        "id": "amQJCD5SXNB8"
      },
      "source": [
        "We have only 1 option that the stock lost all 5 days -1. ($0.3^5$)"
      ]
    }
  ]
}